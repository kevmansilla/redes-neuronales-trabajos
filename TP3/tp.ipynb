{
 "cells": [
  {
   "cell_type": "markdown",
   "metadata": {},
   "source": [
    "# Trabajo Final - Redes Neuronales"
   ]
  },
  {
   "cell_type": "markdown",
   "metadata": {
    "vscode": {
     "languageId": "plaintext"
    }
   },
   "source": [
    "## Importo las librerias necesarias\n"
   ]
  },
  {
   "cell_type": "code",
   "execution_count": null,
   "metadata": {},
   "outputs": [],
   "source": [
    "import matplotlib.pyplot as plt\n",
    "from matplotlib import cm\n",
    "import numpy as np\n",
    "import scipy as sp\n",
    "import scipy.linalg as linalg\n",
    "import sklearn as skl\n",
    "import pandas as pd\n",
    "import json"
   ]
  },
  {
   "cell_type": "code",
   "execution_count": null,
   "metadata": {},
   "outputs": [],
   "source": [
    "# 1.3)\n",
    "import torch\n",
    "import torch.optim as optim\n",
    "from torch import nn\n",
    "from torch.nn import functional as F\n",
    "from torch.utils.data import Dataset, DataLoader, Subset, random_split\n",
    "from torchvision import datasets\n",
    "from torchvision import transforms\n",
    "from torchvision.io import read_image\n",
    "from torchvision.transforms import ToTensor, Lambda, Compose"
   ]
  },
  {
   "cell_type": "code",
   "execution_count": 3,
   "metadata": {},
   "outputs": [
    {
     "data": {
      "text/plain": [
       "'cpu'"
      ]
     },
     "execution_count": 3,
     "metadata": {},
     "output_type": "execute_result"
    }
   ],
   "source": [
    "device = 'cuda' if torch.cuda.is_available() else 'cpu'\n",
    "device"
   ]
  },
  {
   "cell_type": "markdown",
   "metadata": {},
   "source": [
    "## Red neuronal autoencoder convolucional de varias capas"
   ]
  },
  {
   "cell_type": "markdown",
   "metadata": {},
   "source": [
    "### Importo data set"
   ]
  },
  {
   "cell_type": "code",
   "execution_count": 4,
   "metadata": {},
   "outputs": [
    {
     "name": "stdout",
     "output_type": "stream",
     "text": [
      "Downloading http://fashion-mnist.s3-website.eu-central-1.amazonaws.com/train-images-idx3-ubyte.gz\n",
      "Downloading http://fashion-mnist.s3-website.eu-central-1.amazonaws.com/train-images-idx3-ubyte.gz to MNIST_data/FashionMNIST/raw/train-images-idx3-ubyte.gz\n"
     ]
    },
    {
     "name": "stderr",
     "output_type": "stream",
     "text": [
      "100%|██████████| 26.4M/26.4M [00:41<00:00, 632kB/s] \n"
     ]
    },
    {
     "name": "stdout",
     "output_type": "stream",
     "text": [
      "Extracting MNIST_data/FashionMNIST/raw/train-images-idx3-ubyte.gz to MNIST_data/FashionMNIST/raw\n",
      "\n",
      "Downloading http://fashion-mnist.s3-website.eu-central-1.amazonaws.com/train-labels-idx1-ubyte.gz\n",
      "Downloading http://fashion-mnist.s3-website.eu-central-1.amazonaws.com/train-labels-idx1-ubyte.gz to MNIST_data/FashionMNIST/raw/train-labels-idx1-ubyte.gz\n"
     ]
    },
    {
     "name": "stderr",
     "output_type": "stream",
     "text": [
      "100%|██████████| 29.5k/29.5k [00:00<00:00, 109kB/s]\n"
     ]
    },
    {
     "name": "stdout",
     "output_type": "stream",
     "text": [
      "Extracting MNIST_data/FashionMNIST/raw/train-labels-idx1-ubyte.gz to MNIST_data/FashionMNIST/raw\n",
      "\n",
      "Downloading http://fashion-mnist.s3-website.eu-central-1.amazonaws.com/t10k-images-idx3-ubyte.gz\n",
      "Downloading http://fashion-mnist.s3-website.eu-central-1.amazonaws.com/t10k-images-idx3-ubyte.gz to MNIST_data/FashionMNIST/raw/t10k-images-idx3-ubyte.gz\n"
     ]
    },
    {
     "name": "stderr",
     "output_type": "stream",
     "text": [
      "100%|██████████| 4.42M/4.42M [00:02<00:00, 1.83MB/s]\n"
     ]
    },
    {
     "name": "stdout",
     "output_type": "stream",
     "text": [
      "Extracting MNIST_data/FashionMNIST/raw/t10k-images-idx3-ubyte.gz to MNIST_data/FashionMNIST/raw\n",
      "\n",
      "Downloading http://fashion-mnist.s3-website.eu-central-1.amazonaws.com/t10k-labels-idx1-ubyte.gz\n",
      "Downloading http://fashion-mnist.s3-website.eu-central-1.amazonaws.com/t10k-labels-idx1-ubyte.gz to MNIST_data/FashionMNIST/raw/t10k-labels-idx1-ubyte.gz\n"
     ]
    },
    {
     "name": "stderr",
     "output_type": "stream",
     "text": [
      "100%|██████████| 5.15k/5.15k [00:00<00:00, 18.4MB/s]"
     ]
    },
    {
     "name": "stdout",
     "output_type": "stream",
     "text": [
      "Extracting MNIST_data/FashionMNIST/raw/t10k-labels-idx1-ubyte.gz to MNIST_data/FashionMNIST/raw\n",
      "\n"
     ]
    },
    {
     "name": "stderr",
     "output_type": "stream",
     "text": [
      "\n"
     ]
    }
   ],
   "source": [
    "transform = transforms.Compose([transforms.ToTensor(),\n",
    "                                transforms.Normalize((0.5,), (0.5,))])\n",
    "\n",
    "PATH = 'MNIST_data/'\n",
    "train_set_orig = datasets.FashionMNIST(PATH, download=True, train=True, transform=transform)\n",
    "valid_set_orig = datasets.FashionMNIST(PATH, download=True, train=False, transform=transform)"
   ]
  },
  {
   "cell_type": "code",
   "execution_count": 6,
   "metadata": {},
   "outputs": [
    {
     "data": {
      "image/png": "[encoded data removed]",
      "text/plain": [
       "<Figure size 640x480 with 9 Axes>"
      ]
     },
     "metadata": {},
     "output_type": "display_data"
    }
   ],
   "source": [
    "figure = plt.figure()\n",
    "cols, rows = 3, 3\n",
    "for i in range(1, cols * rows + 1):\n",
    "    j = torch.randint(len(train_set_orig), size=(1,)).item()\n",
    "    image, label = train_set_orig[j]\n",
    "    figure.add_subplot(rows, cols, i)\n",
    "    plt.title(train_set_orig.classes[label])\n",
    "    plt.axis(\"off\")\n",
    "    plt.imshow(image.squeeze(), cmap=\"gray\")\n",
    "plt.show()"
   ]
  },
  {
   "cell_type": "markdown",
   "metadata": {},
   "source": [
    "### Creo data set personalizado"
   ]
  },
  {
   "cell_type": "code",
   "execution_count": 7,
   "metadata": {},
   "outputs": [],
   "source": [
    "class CustomDataset():\n",
    "    def __init__(self, dataset):\n",
    "        self.dataset = dataset\n",
    "    def __len__(self):\n",
    "        return len(self.dataset)\n",
    "    def __getitem__(self, i):\n",
    "        image, label = self.dataset[i]\n",
    "        input = image\n",
    "        output = image\n",
    "        return input, output"
   ]
  },
  {
   "cell_type": "code",
   "execution_count": 8,
   "metadata": {},
   "outputs": [],
   "source": [
    "train_set = CustomDataset(train_set_orig)\n",
    "valid_set = CustomDataset(valid_set_orig)"
   ]
  },
  {
   "cell_type": "markdown",
   "metadata": {},
   "source": [
    "### Parte 1: red autoencoder"
   ]
  },
  {
   "cell_type": "code",
   "execution_count": 11,
   "metadata": {},
   "outputs": [
    {
     "data": {
      "text/plain": [
       "(10, 10, 10)"
      ]
     },
     "execution_count": 11,
     "metadata": {},
     "output_type": "execute_result"
    }
   ],
   "source": [
    "def to_ndim(ndim, i):\n",
    "    '''\n",
    "    Mapea un entero i a una tupla (i, i, ..., i) de longitud ndim.\n",
    "    '''\n",
    "    if isinstance(i, int):\n",
    "        return tuple([i]*ndim)\n",
    "    else:\n",
    "        return i\n",
    "\n",
    "to_ndim(3, 10)"
   ]
  },
  {
   "cell_type": "code",
   "execution_count": 15,
   "metadata": {},
   "outputs": [],
   "source": [
    "def conv_size(ndim, in_size, kernel_size, stride=1, padding=0, dilation=1):\n",
    "    '''\n",
    "    Calcula el tamaño de la salida de una capa de convolución.\n",
    "    '''\n",
    "    in_size = to_ndim(ndim, in_size)\n",
    "    kernel_size = to_ndim(ndim, kernel_size)\n",
    "    stride = to_ndim(ndim, stride)\n",
    "    padding = to_ndim(ndim, padding)\n",
    "    dilation = to_ndim(ndim, dilation)\n",
    "    out_size = [(in_size[i] + 2*padding[i] - dilation[i]*(kernel_size[i] - 1) - 1)//stride[i] + 1 for i in range(ndim)]\n",
    "    return out_size\n",
    "\n",
    "def conv_tr_size(ndim, in_size, kernel_size, stride=1, padding=0, dilation=1, output_padding=0):\n",
    "    '''\n",
    "    Calcula el tamaño de la salida de una capa de convolución transpuesta.\n",
    "    '''\n",
    "    in_size = to_ndim(ndim, in_size)\n",
    "    kernel_size = to_ndim(ndim, kernel_size)\n",
    "    stride = to_ndim(ndim, stride)\n",
    "    padding = to_ndim(ndim, padding)\n",
    "    dilation = to_ndim(ndim, dilation)\n",
    "    output_padding = to_ndim(ndim, output_padding)\n",
    "    out_size = [(in_size[i] - 1)*stride[i] - 2*padding[i] + dilation[i]*(kernel_size[i] - 1) + output_padding[i] + 1 for i in range(ndim)]\n",
    "    return out_size"
   ]
  },
  {
   "cell_type": "code",
   "execution_count": 16,
   "metadata": {},
   "outputs": [
    {
     "data": {
      "text/plain": [
       "[28, 28]"
      ]
     },
     "execution_count": 16,
     "metadata": {},
     "output_type": "execute_result"
    }
   ],
   "source": [
    "conv_tr_size(2, 13, 4, stride=2)"
   ]
  },
  {
   "cell_type": "code",
   "execution_count": null,
   "metadata": {},
   "outputs": [],
   "source": [
    "class Autoencoder(nn.Module):\n",
    "    def __init__(self, n, p=0.2):\n",
    "        super(Autoencoder, self).__init__()\n",
    "        self.flatten = nn.Flatten()\n",
    "        self.encoder = nn.Sequential(\n",
    "            # convolutional\n",
    "            nn.Conv2d(1, 16, kernel_size=3, padding=0), #1x28x28 -> 16x26x26\n",
    "            nn.ReLU(),\n",
    "            nn.Dropout(p),\n",
    "            nn.MaxPool2d(kernel_size=2, stride=2), #16x26x26 -> 16x13x13\n",
    "            #  Conv2\n",
    "            nn.Conv2d(16, 32, kernel_size=3, padding=0), #16x13x13 -> 32x11x11\n",
    "            nn.ReLU(),\n",
    "            nn.Dropout(p),\n",
    "            nn.MaxPool2d(kernel_size=2, stride=2), #32x11x11 -> 32x5x5\n",
    "            # Lineal\n",
    "            nn.Flatten(), #32x5x5 -> 800\n",
    "            nn.Linear(32*5*5, n), #800 -> n\n",
    "            nn.ReLU(),\n",
    "            nn.Dropout(p)\n",
    "        )\n",
    "        self.decoder = nn.Sequential(\n",
    "            # lineal\n",
    "            nn.Linear(n, 32*5*5), #n -> 800\n",
    "            nn.ReLU(),\n",
    "            nn.Dropout(p),\n",
    "            nn.Unflatten(1, (32, 5, 5)), #800 -> 32x5x5\n",
    "\n",
    "            # convolutional 2 transpuesta\n",
    "            nn.ConvTranspose2d(32, 16, kernel_size=4, stride=2, output_padding=1), #32x5x5 -> 16x13x13\n",
    "            nn.ReLU(),\n",
    "            nn.Dropout(p),\n",
    "\n",
    "            # convolutional 1 transpuesta\n",
    "            nn.ConvTranspose2d(16, 1, kernel_size=3, stride=2, output_padding=1),  # 16x13x13 -> 1x28x28\n",
    "            nn.ReLU(),\n",
    "            nn.Dropout(p)\n",
    "        )\n",
    "    def forward(self, x):\n",
    "        x = self.encoder(x)\n",
    "        x = self.decoder(x)\n",
    "        return x"
   ]
  },
  {
   "cell_type": "code",
   "execution_count": null,
   "metadata": {},
   "outputs": [],
   "source": [
    "n = 64\n",
    "p = 0.2\n",
    "model_autoencoder = Autoencoder(n, p=p)\n",
    "model = model_autoencoder\n",
    "\n",
    "def batch(x):\n",
    "    return x.unsqueeze(0)\n",
    "\n",
    "def unbatch(x):\n",
    "    return x.squeeze().detach().cpu().numpy()\n"
   ]
  },
  {
   "cell_type": "code",
   "execution_count": null,
   "metadata": {},
   "outputs": [],
   "source": [
    "unbatch(modelo(batch(train_set[0][0]))).shape #28,28"
   ]
  },
  {
   "cell_type": "code",
   "execution_count": 25,
   "metadata": {},
   "outputs": [
    {
     "data": {
      "image/png": "[encoded data removed]",
      "text/plain": [
       "<Figure size 640x480 with 6 Axes>"
      ]
     },
     "metadata": {},
     "output_type": "display_data"
    }
   ],
   "source": [
    "# miramos que imagene predice el modelo sin entrenar\n",
    "figure = plt.figure()\n",
    "rows, cols = 3, 2\n",
    "i = 0\n",
    "for row in range(1, rows + 1):\n",
    "    j = torch.randint(len(train_set), size=(1,)).item()\n",
    "    i += 1\n",
    "    image, _ = train_set[j]\n",
    "    figure.add_subplot(rows, cols, i)\n",
    "    if row == 1:\n",
    "        plt.title('Original')\n",
    "    plt.axis(\"off\")\n",
    "    plt.imshow(image.squeeze(), cmap=\"gray\")\n",
    "    i += 1\n",
    "    figure.add_subplot(rows, cols, i)\n",
    "    if row == 1:\n",
    "        plt.title('Reconstructed')\n",
    "    plt.axis(\"off\")\n",
    "    image_pred = unbatch(model(batch(image)))\n",
    "    plt.imshow(image_pred.squeeze(), cmap=\"gray\")\n",
    "plt.show()"
   ]
  },
  {
   "cell_type": "markdown",
   "metadata": {},
   "source": [
    "## Parte 2: entrenenado el autoencoder"
   ]
  },
  {
   "cell_type": "code",
   "execution_count": null,
   "metadata": {},
   "outputs": [],
   "source": [
    "def train_model(dataloader, model, loss_fn, optimizer):\n",
    "    num_samples = len(dataloader.dataset)\n",
    "    num_batches = len(dataloader)\n",
    "    sum_batch_avrg_loss = 0\n",
    "    sum_correct = 0\n",
    "    num_processed_samples = 0\n",
    "\n",
    "    model.train()\n",
    "    for batch, (X, y) in enumerate(dataloader):\n",
    "        X, y = X.to(device), y.to(device)\n",
    "        batch_size = len(X)\n",
    "        pred = model(X)\n",
    "        loss = loss_fn(pred, y)\n",
    "\n",
    "        optimizer.zero_grad()\n",
    "        loss.backward()\n",
    "        optimizer.step()\n",
    "\n",
    "        batch_avrg_loss = loss.item()\n",
    "        sum_batch_avrg_loss += batch_avrg_loss\n",
    "        sum_correct += (pred.argmax(dim=1) == y).type(torch.float).sum().item()\n",
    "        num_processed_samples += batch_size\n",
    "\n",
    "        # if batch % (num_batches/10) == 0:\n",
    "        # if batch % max(num_batches // 10, 1) == 0:\n",
    "        #    print(f'Batch {batch:>5d} | Loss: {batch_avrg_loss:.6f} | '\n",
    "        #          f'Processed: {100 * num_processed_samples / num_samples:.2f}%')\n",
    "\n",
    "    avg_loss = sum_batch_avrg_loss / num_batches\n",
    "    precision = sum_correct / num_samples\n",
    "    return avg_loss, precision\n",
    "\n",
    "\n",
    "def valid_model(dataloader, model, loss_fn):\n",
    "    num_samples = len(dataloader.dataset)\n",
    "    num_batches = len(dataloader)\n",
    "    sum_batch_avrg_loss = 0\n",
    "    sum_correct = 0\n",
    "\n",
    "    model.eval()\n",
    "    with torch.no_grad():\n",
    "        for X, y in dataloader:\n",
    "            X, y = X.to(device), y.to(device)\n",
    "            pred = model(X)\n",
    "            loss = loss_fn(pred, y)\n",
    "            sum_batch_avrg_loss += loss.item()\n",
    "            sum_correct += (pred.argmax(dim=1) ==\n",
    "                            y).type(torch.float).sum().item()\n",
    "\n",
    "    avg_loss = sum_batch_avrg_loss / num_batches\n",
    "    precision = sum_correct / num_samples\n",
    "    print(f'Validation | Precision: {100 * precision:.1f}% | Avg Loss: {avg_loss:.6f}')\n",
    "    return avg_loss, precision"
   ]
  },
  {
   "cell_type": "code",
   "execution_count": null,
   "metadata": {},
   "outputs": [],
   "source": [
    "# creamos los dataloaders\n",
    "BATCH_SIZE = 100\n",
    "train_loader = DataLoader(train_set, batch_size=BATCH_SIZE, shuffle=True)\n",
    "valid_loader = DataLoader(valid_set, batch_size=BATCH_SIZE, shuffle=False)"
   ]
  },
  {
   "cell_type": "code",
   "execution_count": null,
   "metadata": {},
   "outputs": [],
   "source": [
    "# creamos una instancia de la funcion de perdida, \n",
    "# loss_fn = nn.CrossEntropyLoss()\n",
    "loss_fn = nn.MSELoss()"
   ]
  },
  {
   "cell_type": "code",
   "execution_count": null,
   "metadata": {},
   "outputs": [],
   "source": [
    "# creamos el modelo\n",
    "n = 64\n",
    "p = 0.2\n",
    "model = Autoencoder(n, p=p)"
   ]
  },
  {
   "cell_type": "code",
   "execution_count": null,
   "metadata": {},
   "outputs": [],
   "source": [
    "# learning rate\n",
    "lr = 1e-3\n",
    "optimizer = torch.optim.Adam(model.parameters(), lr=lr, eps=1e-8, weight_decay=0, amsgrad=False)\n",
    "# optimizer = torch.optim.SGD(model.parameters(), lr=lr)"
   ]
  },
  {
   "cell_type": "code",
   "execution_count": null,
   "metadata": {},
   "outputs": [],
   "source": [
    "# 2.8)\n",
    "num_epochs = 30\n",
    "list_train_avg_loss = []\n",
    "list_valid_avg_loss = []\n",
    "list_train_precision = []\n",
    "list_valid_precision = []\n",
    "\n",
    "for epoch in range(num_epochs):\n",
    "    print(f'Epoch {epoch+1}\\n' + '-' * 20)\n",
    "\n",
    "    train_avg_loss, train_precision = train_model(\n",
    "        train_loader, model, loss_fn, optimizer)\n",
    "    valid_avg_loss, valid_precision = valid_model(valid_loader, model, loss_fn)\n",
    "\n",
    "    list_train_avg_loss.append(train_avg_loss)\n",
    "    list_valid_avg_loss.append(valid_avg_loss)\n",
    "    list_train_precision.append(train_precision)\n",
    "    list_valid_precision.append(valid_precision)\n",
    "\n",
    "print('Entranamiento completo')"
   ]
  },
  {
   "cell_type": "code",
   "execution_count": null,
   "metadata": {},
   "outputs": [],
   "source": [
    "# guardo el modelo\n",
    "torch.save(model.state_dict(), 'model_base.pth')"
   ]
  },
  {
   "cell_type": "code",
   "execution_count": null,
   "metadata": {},
   "outputs": [],
   "source": [
    "baseline_train_loss = list_train_avg_loss\n",
    "baseline_valid_loss = list_valid_avg_loss\n",
    "baseline_train_precision = list_train_precision\n",
    "baseline_valid_precision = list_valid_precision"
   ]
  },
  {
   "cell_type": "code",
   "execution_count": null,
   "metadata": {},
   "outputs": [],
   "source": [
    "plt.figure(figsize=(4, 6))\n",
    "plt.subplot(2, 1, 1)  # Crear un subplot en la posición (1, 1)\n",
    "plt.title('a)', loc='left')\n",
    "plt.ylabel('Pérdida')\n",
    "plt.plot(range(1, len(baseline_train_loss)+1),\n",
    "         baseline_train_loss, label=f'Entranamiento')\n",
    "plt.plot(range(1, len(baseline_valid_loss)+1),\n",
    "         baseline_valid_loss, label=f'Validación')\n",
    "plt.ylim(0.2, 2.2)\n",
    "plt.grid(alpha=0.5)\n",
    "plt.legend(loc='upper right', fontsize='x-small')\n",
    "\n",
    "plt.subplot(2, 1, 2)  # Crear un subplot en la posición (2, 1)\n",
    "plt.title('b)', loc='left')\n",
    "plt.ylabel('Precisión')\n",
    "plt.plot(range(1, len(baseline_train_precision)+1),\n",
    "         baseline_train_precision, label=f'Entranamiento')\n",
    "plt.plot(range(1, len(baseline_valid_precision)+1),\n",
    "         baseline_valid_precision, label=f'Validación')\n",
    "plt.ylim(0.35, 0.95)\n",
    "plt.grid(alpha=0.5)\n",
    "plt.legend(loc='lower right', fontsize='x-small')\n",
    "\n",
    "plt.xlabel('Número de épocas')  # Agregar el label solo una vez\n",
    "plt.tight_layout()  # Ajustar el tamaño de los subplots\n",
    "plt.savefig('baseline.png', dpi=300, bbox_inches='tight')\n",
    "plt.show()"
   ]
  },
  {
   "cell_type": "markdown",
   "metadata": {},
   "source": [
    "## Variar algunos parametros"
   ]
  },
  {
   "cell_type": "markdown",
   "metadata": {},
   "source": [
    "## Parte 3: Definiendo un clasificador convolucional reutilizando el encoder"
   ]
  },
  {
   "cell_type": "code",
   "execution_count": null,
   "metadata": {},
   "outputs": [],
   "source": [
    "#3.1\n",
    "class Autoencoder_clasificator(nn.Module):\n",
    "    def __init__(self, n, p=0.2, encoder=None):\n",
    "        super(Autoencoder_clasificator, self).__init__()\n",
    "        self.flatten = nn.Flatten()\n",
    "        if encoder is None:\n",
    "            self.encoder = nn.Sequential(\n",
    "                # convolutional\n",
    "                nn.Conv2d(1, 16, kernel_size=3, padding=0), #1x28x28 -> 16x26x26\n",
    "                nn.ReLU(),\n",
    "                nn.Dropout(p),\n",
    "                nn.MaxPool2d(kernel_size=2, stride=2), #16x26x26 -> 16x13x13\n",
    "                #  Conv2\n",
    "                nn.Conv2d(16, 32, kernel_size=3, padding=0), #16x13x13 -> 32x11x11\n",
    "                nn.ReLU(),\n",
    "                nn.Dropout(p),\n",
    "                nn.MaxPool2d(kernel_size=2, stride=2), #32x11x11 -> 32x5x5\n",
    "                # Lineal\n",
    "                nn.Flatten(),\n",
    "                nn.Linear(32*5*5, n),\n",
    "                nn.ReLU(),\n",
    "                nn.Dropout(p)\n",
    "            )\n",
    "        else:\n",
    "            self.encoder = copy.deepcopy(encoder)\n",
    "        self.classifier = nn.Sequential(\n",
    "            nn.Linear(n, 10),\n",
    "            nn.ReLU(),\n",
    "            nn.Dropout(p)\n",
    "        )\n",
    "    def forward(self, x):\n",
    "        x = self.encoder(x)\n",
    "        x = self.classifier(x)\n",
    "        return x"
   ]
  },
  {
   "cell_type": "code",
   "execution_count": null,
   "metadata": {},
   "outputs": [],
   "source": [
    "train_loader = DataLoader(train_set_orig, batch_size=BATCH_SIZE, shuffle=True)\n",
    "valid_loader = DataLoader(valid_set_orig, batch_size=BATCH_SIZE, shuffle=False)"
   ]
  },
  {
   "cell_type": "code",
   "execution_count": null,
   "metadata": {},
   "outputs": [],
   "source": [
    "#3.3\n",
    "loss_fn = nn.CrossEntropyLoss()"
   ]
  },
  {
   "cell_type": "code",
   "execution_count": null,
   "metadata": {},
   "outputs": [],
   "source": [
    "#3.4\n",
    "n = 64\n",
    "p = 0.2\n",
    "model_cla_auto = Autoencoder_clasificator(n, p=p, encoder=model_autoencoder.encoder)"
   ]
  },
  {
   "cell_type": "code",
   "execution_count": null,
   "metadata": {},
   "outputs": [],
   "source": [
    "lr = 1e-3\n",
    "optimizer = torch.optim.Adam(model.parameters(), lr=lr, eps=1e-8, weight_decay=0, amsgrad=False) #reentrena todo"
   ]
  },
  {
   "cell_type": "code",
   "execution_count": null,
   "metadata": {},
   "outputs": [],
   "source": [
    "# 3.2)\n",
    "num_epochs = 30\n",
    "list_train_avg_loss = []\n",
    "list_valid_avg_loss = []\n",
    "list_train_precision = []\n",
    "list_valid_precision = []\n",
    "\n",
    "for epoch in range(num_epochs):\n",
    "    print(f'Epoch {epoch+1}\\n' + '-' * 20)\n",
    "\n",
    "    train_avg_loss, train_precision = train_model(\n",
    "        train_loader, model, loss_fn, optimizer)\n",
    "    valid_avg_loss, valid_precision = valid_model(valid_loader, model, loss_fn)\n",
    "\n",
    "    list_train_avg_loss.append(train_avg_loss)\n",
    "    list_valid_avg_loss.append(valid_avg_loss)\n",
    "    list_train_precision.append(train_precision)\n",
    "    list_valid_precision.append(valid_precision)\n",
    "\n",
    "print('Entranamiento completo')"
   ]
  },
  {
   "cell_type": "code",
   "execution_count": null,
   "metadata": {},
   "outputs": [],
   "source": [
    "# modificar\n",
    "baseline_train_loss = list_train_avg_loss\n",
    "baseline_valid_loss = list_valid_avg_loss\n",
    "baseline_train_precision = list_train_precision\n",
    "baseline_valid_precision = list_valid_precision"
   ]
  },
  {
   "cell_type": "code",
   "execution_count": null,
   "metadata": {},
   "outputs": [],
   "source": [
    "# matriz de confusion\n",
    "import seaborn as sns\n",
    "\n",
    "\n",
    "def confusion_matrix(model, dataloader):\n",
    "    num_samples = len(dataloader.dataset)\n",
    "    num_classes = 10\n",
    "    confusion_matrix = torch.zeros(num_classes, num_classes)\n",
    "    model.eval()\n",
    "    with torch.no_grad():\n",
    "        for X, y in dataloader:\n",
    "            X, y = X.to(device), y.to(device)\n",
    "            pred = model(X)\n",
    "            pred = pred.argmax(dim=1)\n",
    "            for i in range(len(y)):\n",
    "                confusion_matrix[y[i], pred[i]] += 1\n",
    "    return confusion_matrix\n",
    "\n",
    "\n",
    "# grafico de matriz don seaborn\n",
    "\n",
    "\n",
    "def plot_confusion_matrix(confusion_matrix, labels):\n",
    "    plt.figure(figsize=(8, 6))\n",
    "    sns.heatmap(confusion_matrix, annot=True, fmt='g',\n",
    "                cmap='Blues', xticklabels=labels, yticklabels=labels)\n",
    "    plt.xlabel('Predicción')\n",
    "    plt.ylabel('Real')\n",
    "    plt.title('Matriz de confusión')\n",
    "    plt.savefig('confusion_matrix.png', dpi=300, bbox_inches='tight')\n",
    "    plt.show()\n",
    "\n",
    "\n",
    "labels = [labels_names[i] for i in range(10)]\n",
    "\n",
    "confusion_matrix = confusion_matrix(model, valid_loader)\n",
    "plot_confusion_matrix(confusion_matrix, labels)"
   ]
  },
  {
   "cell_type": "markdown",
   "metadata": {},
   "source": [
    "## Parte 4\n"
   ]
  },
  {
   "cell_type": "code",
   "execution_count": null,
   "metadata": {},
   "outputs": [],
   "source": [
    "# Modifique el optimizador para que s´olo reentrene los par´ametros de la capa clasificadora, dejando los\n",
    "# par´ametros de la capa codificadora tal como vienen entrenada del el autoencoder convolucional. Repita\n",
    "# los experimentos de la parte 3. Que observa? Comente\n",
    "\n",
    "# 3.4)\n",
    "n = 64\n",
    "p = 0.2\n",
    "lr = 1e-3\n",
    "\n",
    "optimizer = torch.optim.Adam(model.clasificador.parameters(), lr=lr, eps=1e-8, weight_decay=0, amsgrad=False)  # solo clasificador da peor"
   ]
  }
 ],
 "metadata": {
  "kernelspec": {
   "display_name": "Python 3",
   "language": "python",
   "name": "python3"
  },
  "language_info": {
   "codemirror_mode": {
    "name": "ipython",
    "version": 3
   },
   "file_extension": ".py",
   "mimetype": "text/x-python",
   "name": "python",
   "nbconvert_exporter": "python",
   "pygments_lexer": "ipython3",
   "version": "3.9.15"
  }
 },
 "nbformat": 4,
 "nbformat_minor": 2
}
