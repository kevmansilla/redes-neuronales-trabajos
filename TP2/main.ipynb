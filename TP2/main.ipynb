{
 "cells": [
  {
   "cell_type": "markdown",
   "metadata": {
    "id": "NRYEofSD0xoF"
   },
   "source": [
    "# PyTorch: Aprendiendo Fashion-MNIST\n",
    "\n",
    "## Refs.\n",
    "\n",
    "* https://pytorch.org/tutorials/beginner/basics/optimization_tutorial.html\n",
    "\n",
    "* https://github.com/zalandoresearch/fashion-mnist\n",
    "\n",
    "* https://github.com/pranay414/Fashion-MNIST-Pytorch/blob/master/fashion_mnist.ipynb\n",
    "\n",
    "## **Ejercicio 1)** Importando librerías\n",
    "\n",
    "**0)** De ser necesario, **instale PyTorch** escribiendo\n",
    "\n",
    "    !pip3 install torch torchvision torchaudio torchviz\n",
    "\n",
    "**1)** Importe las librerías estandard de Python: `os`, `datetime`, `collections` y `pickle`.\n",
    "\n",
    "**2)** Importe las siguientes librerías third party de Python: `matplotlib.pyplot`, `numpy`, `scipy`, `sklearn`, `pandas`, `dill` y `json`.\n",
    "\n",
    "**3)** Importe las librerias necesarias de **PyTorch**: `torch` y `torchvision`.\n",
    "\n",
    "**4)** Importe la librería: `google.colab`."
   ]
  },
  {
   "cell_type": "code",
   "execution_count": 1,
   "metadata": {
    "id": "I8N3D_nU1_oT"
   },
   "outputs": [],
   "source": [
    "# 1.1)\n",
    "import os\n",
    "import pickle\n",
    "import datetime\n",
    "from collections import defaultdict"
   ]
  },
  {
   "cell_type": "code",
   "execution_count": 2,
   "metadata": {
    "id": "QsfFvPYhkCGl"
   },
   "outputs": [],
   "source": [
    "# 1.2)\n",
    "import matplotlib.pyplot as plt\n",
    "from matplotlib import cm\n",
    "import numpy as np\n",
    "import scipy as sp\n",
    "import scipy.linalg as linalg\n",
    "import sklearn as skl\n",
    "import pandas as pd\n",
    "#import dill\n",
    "import json"
   ]
  },
  {
   "cell_type": "code",
   "execution_count": 3,
   "metadata": {
    "id": "Uot5sVNnkCNa"
   },
   "outputs": [],
   "source": [
    "# 1.3)\n",
    "import torch\n",
    "import torch.optim as optim\n",
    "from torch import nn\n",
    "from torch.nn import functional as F\n",
    "from torch.utils.data import Dataset, DataLoader, Subset, random_split\n",
    "from torchvision import datasets\n",
    "from torchvision import transforms\n",
    "from torchvision.io import read_image\n",
    "from torchvision.transforms import ToTensor, Lambda, Compose\n",
    "#from torchviz import make_dot"
   ]
  },
  {
   "cell_type": "markdown",
   "metadata": {
    "id": "NcaGEHAd10sb"
   },
   "source": [
    "## **Ejercicio 2)**\n",
    "\n",
    "Bajando y Jugando con el dataset **Fashion-MNIST**.\n",
    "\n",
    "**1)** Baje y transforme (i.e. normalize los valores al rango [0,1]) los conjuntos de entrenamiento y testeo de FashionMNIST.\n",
    "\n",
    "**2)** Explore algunos ejemplos de estos conjuntos. Que formato poseen?\n",
    "\n",
    "**3)** Visitando la página web de FashionMNIST, cree un diccionario de Python `Dict()` asociando cada categoría a un nombre adecuado de la misma.\n",
    "\n",
    "**4)** Grafique un mosaico de 3x3 imagenes de FashionMNIST, cada una titulada con su respectiva clasificación"
   ]
  },
  {
   "cell_type": "code",
   "execution_count": 8,
   "metadata": {
    "colab": {
     "base_uri": "https://localhost:8080/"
    },
    "id": "NUoQ9bnwaZ7O",
    "outputId": "12075a20-655e-4309-8cf0-16bedff27786"
   },
   "outputs": [
    {
     "name": "stdout",
     "output_type": "stream",
     "text": [
      "Downloading http://fashion-mnist.s3-website.eu-central-1.amazonaws.com/train-images-idx3-ubyte.gz\n",
      "Downloading http://fashion-mnist.s3-website.eu-central-1.amazonaws.com/train-images-idx3-ubyte.gz to MNIST_data/FashionMNIST/raw/train-images-idx3-ubyte.gz\n"
     ]
    },
    {
     "name": "stderr",
     "output_type": "stream",
     "text": [
      "100%|██████████| 26.4M/26.4M [00:05<00:00, 4.62MB/s]\n"
     ]
    },
    {
     "name": "stdout",
     "output_type": "stream",
     "text": [
      "Extracting MNIST_data/FashionMNIST/raw/train-images-idx3-ubyte.gz to MNIST_data/FashionMNIST/raw\n",
      "\n",
      "Downloading http://fashion-mnist.s3-website.eu-central-1.amazonaws.com/train-labels-idx1-ubyte.gz\n",
      "Downloading http://fashion-mnist.s3-website.eu-central-1.amazonaws.com/train-labels-idx1-ubyte.gz to MNIST_data/FashionMNIST/raw/train-labels-idx1-ubyte.gz\n"
     ]
    },
    {
     "name": "stderr",
     "output_type": "stream",
     "text": [
      "100%|██████████| 29.5k/29.5k [00:00<00:00, 113kB/s]\n"
     ]
    },
    {
     "name": "stdout",
     "output_type": "stream",
     "text": [
      "Extracting MNIST_data/FashionMNIST/raw/train-labels-idx1-ubyte.gz to MNIST_data/FashionMNIST/raw\n",
      "\n",
      "Downloading http://fashion-mnist.s3-website.eu-central-1.amazonaws.com/t10k-images-idx3-ubyte.gz\n",
      "Downloading http://fashion-mnist.s3-website.eu-central-1.amazonaws.com/t10k-images-idx3-ubyte.gz to MNIST_data/FashionMNIST/raw/t10k-images-idx3-ubyte.gz\n"
     ]
    },
    {
     "name": "stderr",
     "output_type": "stream",
     "text": [
      "100%|██████████| 4.42M/4.42M [00:02<00:00, 2.16MB/s]\n"
     ]
    },
    {
     "name": "stdout",
     "output_type": "stream",
     "text": [
      "Extracting MNIST_data/FashionMNIST/raw/t10k-images-idx3-ubyte.gz to MNIST_data/FashionMNIST/raw\n",
      "\n",
      "Downloading http://fashion-mnist.s3-website.eu-central-1.amazonaws.com/t10k-labels-idx1-ubyte.gz\n",
      "Downloading http://fashion-mnist.s3-website.eu-central-1.amazonaws.com/t10k-labels-idx1-ubyte.gz to MNIST_data/FashionMNIST/raw/t10k-labels-idx1-ubyte.gz\n"
     ]
    },
    {
     "name": "stderr",
     "output_type": "stream",
     "text": [
      "100%|██████████| 5.15k/5.15k [00:00<00:00, 16.0MB/s]"
     ]
    },
    {
     "name": "stdout",
     "output_type": "stream",
     "text": [
      "Extracting MNIST_data/FashionMNIST/raw/t10k-labels-idx1-ubyte.gz to MNIST_data/FashionMNIST/raw\n",
      "\n"
     ]
    },
    {
     "name": "stderr",
     "output_type": "stream",
     "text": [
      "\n"
     ]
    }
   ],
   "source": [
    "# 2.1)\n",
    "transform = transforms.Compose([\n",
    "                                transforms.ToTensor(),\n",
    "                                transforms.Normalize((0.5,), (0.5,))\n",
    "                                ])\n",
    "\n",
    "# download the MNIST dataset\n",
    "train_dataset = datasets.FashionMNIST('MNIST_data/', download=True, train=True, transform=transform)\n",
    "test_dataset = datasets.FashionMNIST('MNIST_data/', download=True, train=False, transform=transform)\n"
   ]
  },
  {
   "cell_type": "code",
   "execution_count": 10,
   "metadata": {},
   "outputs": [
    {
     "data": {
      "text/plain": [
       "<matplotlib.image.AxesImage at 0x7e78edd705b0>"
      ]
     },
     "execution_count": 10,
     "metadata": {},
     "output_type": "execute_result"
    },
    {
     "data": {
      "image/png": "[encoded data removed]",
      "text/plain": [
       "<Figure size 640x480 with 1 Axes>"
      ]
     },
     "metadata": {},
     "output_type": "display_data"
    }
   ],
   "source": [
    "# 2.2)\n",
    "plt.imshow(train_dataset[0][0].squeeze(), cmap='gray')"
   ]
  },
  {
   "cell_type": "code",
   "execution_count": 11,
   "metadata": {},
   "outputs": [],
   "source": [
    "# 2.3)\n",
    "labels_names = {\n",
    "    0: 'T-shirt/top', #remera manga corta\n",
    "    1: 'Trouser', #pantalon\n",
    "    2: 'Pullover', \n",
    "    3: 'Dress', #vestido\n",
    "    4: 'Coat', #abrigo\n",
    "    5: 'Sandal', #sandalia\n",
    "    6: 'Shirt', #camisa\n",
    "    7: 'Sneaker', #zapatilla\n",
    "    8: 'Bag', #bolso\n",
    "    9: 'Ankle boot' #bota\n",
    "}"
   ]
  },
  {
   "cell_type": "code",
   "execution_count": 14,
   "metadata": {},
   "outputs": [
    {
     "data": {
      "image/png": "[encoded data removed]",
      "text/plain": [
       "<Figure size 640x480 with 9 Axes>"
      ]
     },
     "metadata": {},
     "output_type": "display_data"
    }
   ],
   "source": [
    "# 2.4)\n",
    "\n",
    "figure = plt.figure()\n",
    "cols, rows = 3, 3\n",
    "for i in range (1, cols*rows+1):\n",
    "    j = torch.randint(len(train_dataset), size=(1,)).item()\n",
    "    image, label = train_dataset[j]\n",
    "    figure.add_subplot(rows, cols, i)\n",
    "    plt.title(labels_names[label])\n",
    "    plt.axis('off')\n",
    "    plt.imshow(image.squeeze(), cmap='gray')\n",
    "plt.show()"
   ]
  },
  {
   "cell_type": "markdown",
   "metadata": {
    "id": "1OWYnfxWz8RS"
   },
   "source": [
    "## Ejercicio 3)\n",
    "\n",
    "Creando un `DataLoader` para alimentar el modelo con batchs (lotes) de entrenamiento.\n",
    "\n",
    "**1)** Cree los `DataLoader`s para cada conjunto. Defínalos con un `batch_size` de 100 y con el flag `shuffle` seteado a `True`.\n",
    "\n",
    "**2)** Use uno de los `DataLoader`s creados anteriormente para explorar algunos elementos del conjunto.\n",
    "\n",
    "Notar que, el iterador devuelve el batch en un par `(image,label)`.\n",
    "\n",
    "El objeto `images` es un tensor de dimensiones `(100,1,28,28)`.\n",
    "El 100 es el tamaño del batch.\n",
    "El 1 porque hay un solo canal (en este caso, un canal de escala de grises, pero podría haber varios, p. ej. uno por cada color de {Red, Green Blue} en caso que fuesen imagenes a color).\n",
    "Luego, 28 y 28 porque cada imagen del dataset es de 28 x 28 píxeles.\n",
    "\n",
    "El objeto `labels` es un tensor de dimensiones `(100,)`.\n",
    "La $i$-ésima entrada `labels[i]` de `labels` es un número en $\\{0,1,...,9\\}$ indicando la categoría a la que pertenece la $i$-ésima imagen en el batch, guardada en `images[i]`."
   ]
  },
  {
   "cell_type": "code",
   "execution_count": 17,
   "metadata": {
    "id": "lK7gqh7lrTi8"
   },
   "outputs": [],
   "source": [
    "# 3.1)\n",
    "train_loader = torch.utils.data.DataLoader(train_dataset, batch_size=100, shuffle=True)\n",
    "test_loader = torch.utils.data.DataLoader(test_dataset, batch_size=100, shuffle=True)"
   ]
  },
  {
   "cell_type": "code",
   "execution_count": null,
   "metadata": {},
   "outputs": [
    {
     "data": {
      "text/plain": [
       "60000"
      ]
     },
     "execution_count": 18,
     "metadata": {},
     "output_type": "execute_result"
    }
   ],
   "source": [
    "len(train_loader.dataset) # numero de ejemplos"
   ]
  },
  {
   "cell_type": "code",
   "execution_count": 19,
   "metadata": {},
   "outputs": [
    {
     "data": {
      "text/plain": [
       "600"
      ]
     },
     "execution_count": 19,
     "metadata": {},
     "output_type": "execute_result"
    }
   ],
   "source": [
    "len(train_loader) # numero de batches"
   ]
  },
  {
   "cell_type": "code",
   "execution_count": 20,
   "metadata": {},
   "outputs": [
    {
     "name": "stdout",
     "output_type": "stream",
     "text": [
      "<class 'torch.Tensor'> torch.Size([100, 1, 28, 28])\n",
      "<class 'torch.Tensor'> torch.Size([100])\n"
     ]
    }
   ],
   "source": [
    "# 3.2)\n",
    "train_iter = iter(train_loader)\n",
    "images, labels = next(train_iter)\n",
    "print(type(images), images.shape)\n",
    "print(type(labels), labels.shape)"
   ]
  },
  {
   "cell_type": "code",
   "execution_count": 26,
   "metadata": {},
   "outputs": [
    {
     "data": {
      "text/plain": [
       "<matplotlib.image.AxesImage at 0x7e78e4313af0>"
      ]
     },
     "execution_count": 26,
     "metadata": {},
     "output_type": "execute_result"
    },
    {
     "data": {
      "image/png": "[encoded data removed]",
      "text/plain": [
       "<Figure size 640x480 with 1 Axes>"
      ]
     },
     "metadata": {},
     "output_type": "display_data"
    }
   ],
   "source": [
    "# miramos una imagen\n",
    "plt.imshow(images[3].squeeze(), cmap='gray')"
   ]
  },
  {
   "cell_type": "markdown",
   "metadata": {
    "id": "REToccG127zI"
   },
   "source": [
    "## Ejercicio 4)\n",
    "\n",
    "Defina una red neuronal de 4 capas, una de entrada, dos ocultas de $n_1=128$ y $n_2=64$ neuronas, respectivamente, y una de salida de 10 neuronas.\n",
    "\n",
    "En las capas intermedias utilice neuronas tipo ReLU y agregueles un *dropout* de p=0.2.\n",
    "En la capa de salida no utilice funciones de activación ni dropout.\n",
    "\n",
    "Las capas sucesivas tienen que estar totalmente conectadas entre si."
   ]
  },
  {
   "cell_type": "code",
   "execution_count": 27,
   "metadata": {
    "id": "C17Tib9G_k-q"
   },
   "outputs": [],
   "source": [
    "# 4)\n",
    "class NeuralNetwork(nn.Module):\n",
    "    def __init__(self, n1, n2, p=0.2):\n",
    "        super(NeuralNetwork, self).__init__()\n",
    "        # capa 0\n",
    "        self.flatten = nn.Flatten() # capa Flatten\n",
    "        # capa 1\n",
    "        self.fc1 = nn.Linear(28*28, n1) # capa Fully Connected\n",
    "        self.relu = nn.ReLU() # capa ReLU\n",
    "        self.dropout = nn.Dropout(p) # capa Dropout\n",
    "        # capa 2\n",
    "        self.fc2 = nn.Linear(n1, n2) # capa Fully Connected\n",
    "        self.relu = nn.ReLU() # capa ReLU\n",
    "        self.dropout = nn.Dropout(p) # capa Dropout\n",
    "        # capa 3\n",
    "        self.fc3 = nn.Linear(n2, 10) # capa Fully Connected\n",
    "    def forward(self, x):\n",
    "        # capa 0\n",
    "        x = self.flatten(x)\n",
    "        # capa 1\n",
    "        x = self.fc1(x)\n",
    "        x = self.relu(x)\n",
    "        x = self.dropout(x)\n",
    "        # capa 2\n",
    "        x = self.fc2(x)\n",
    "        x = self.relu(x)\n",
    "        x = self.dropout(x)\n",
    "        # capa 3\n",
    "        x = self.fc3(x)\n",
    "        return x"
   ]
  },
  {
   "cell_type": "code",
   "execution_count": 28,
   "metadata": {},
   "outputs": [
    {
     "data": {
      "text/plain": [
       "torch.Size([100, 10])"
      ]
     },
     "execution_count": 28,
     "metadata": {},
     "output_type": "execute_result"
    }
   ],
   "source": [
    "my_nn = NeuralNetwork(128, 64)\n",
    "my_nn(images).shape"
   ]
  },
  {
   "cell_type": "markdown",
   "metadata": {
    "id": "A9uINlg69OTw"
   },
   "source": [
    "## Ejercicio 5)\n",
    "\n",
    "Entrenamos el modelo\n",
    "\n",
    "**1)** Implemente, en una función, un loop de entrenamiento que recorra los batchs (lotes).\n",
    "\n",
    "**2)** Implemente, en una función, un loop de validación que recorra los batchs.\n",
    "\n",
    "**3)** Inicialize dos `DataLoader`s llamados `train_loader` y `valid_loader` a partir del `train_set` (conjunto de entranmiento) y del `valid_set` (conjunto de validación) de Fashion-MNIST, respectivamente, y que usen batchs de 100 ejemplos.\n",
    "\n",
    "**4)** Cree una función de pérdida usando la **Cross Entropy Loss**.\n",
    "\n",
    "**IMPORTANTE:** Notar que la **Cross Entropy Loss** aplica automáticamente una `log_softmax`.\n",
    "\n",
    "**5)** Cree un optimizador que utilice el método de **Stochastic Gradient Descent** con un learning rate igual a $10^{-3}$.\n",
    "\n",
    "**6)** Cree una instancia del modelo.\n",
    "\n",
    "**7)** Especifique en que dispositivo (`device`) va a trabajar: en una **CPU** o en una **GPU**.\n",
    "\n",
    "**8)** Implemente un loop de entrenamiento y validación que trabaje con el `train_loader` y el `valid_loader`, respectivamente, usando un numero arbitrario de épocas.\n",
    "Este loop debe guardar en cuatro listas los valores de los promedios del **Cross Entropy Loss** y las fracciones de clasificaciones correctas o **precisión** (accuracy) sobre el conjunto de **entrenamiento** y el de **validación**, respectivamente.\n",
    "\n",
    "**IMPORTANTE:** No olvide copiar los batchs al dispositivo de trabajo.\n",
    "\n",
    "**9)** Entrene y valide el modelo.\n",
    "\n",
    "**10)** Use las listas del inciso anterior para graficar en función de las épocas la **Cross Entropy Loss** de **entrenamiento** y de **validación**.\n",
    "Realize un gráfico análogo pero con la **precisión**.\n",
    "Discuta y comente, cual es el número óptimo de épocas de entrenamiento?\n",
    "\n",
    "**11)** Repita los experimentos variando hiperparámetros. Por ejemplo:\n",
    "\n",
    "- El learning-rate.\n",
    "- El optimizador (ej. puede usar ADAM).\n",
    "- El valor de dropout.\n",
    "- El número de neuronas en las capas intermedias.\n",
    "- El número de épocas de entrenamiento.\n",
    "- El tamaño de los lotes.\n",
    "\n",
    "Discuta los resultados."
   ]
  },
  {
   "cell_type": "code",
   "execution_count": null,
   "metadata": {
    "id": "hyuXv-0x29Xw"
   },
   "outputs": [],
   "source": [
    "# 5.1)\n",
    "\n",
    "# Definimos la funcion de entrenamiento\n",
    "def train_loop(data_loader, model, loss_fn, optimizer):\n",
    "    # activamos la maquina de entrenamiento\n",
    "    model.train()\n",
    "    # definimos constantes\n",
    "    num_samples = len(data_loader.dataset)\n",
    "    num_batches = len(data_loader)\n",
    "    sum_batch_avrg_loss = 0\n",
    "    sum_correct = 0\n",
    "    num_precessed_samples = 0\n",
    "    # loop de entrenamiento\n",
    "    for batch, (X, y) in enumerate(data_loader):\n",
    "        # copiamos las entradas y las salidas al dispositivo de trabajo\n",
    "        X, y = X.to(device), y.to(device)\n",
    "        batch_size = len(X) # tamaño del batch\n",
    "        # Calculamos la prediccion del modelo y lo correspondiente funcion de perdida\n",
    "        pred = model(X)\n",
    "        loss = loss_fn(pred, y)\n",
    "        # backpropagation usamos el optimozador\n",
    "        optimizer.zero_grad()\n",
    "        loss.backward()\n",
    "        optimizer.step()\n",
    "        # calculamos la perdida promedio del batch y lo agregamos a una suma correspondiente\n",
    "        batch_avrg_loss = loss.item()\n",
    "        sum_batch_avrg_loss += batch_avrg_loss\n",
    "        # calculamos el numero de predicciones correctas en el batch y lo agregamos a una suma correspondiente\n",
    "        sum_correct += (pred.argmax(1) == y).type(torch.float).sum().item()\n",
    "        # calculamos el numero de ejemplos procesados\n",
    "        num_precessed_samples += batch_size\n",
    "        # imprimimos el progreso\n",
    "        if batch % max(num_batches // 10, 1) == 0:\n",
    "            print(f'Batch {batch:>5d} | Loss: {batch_avrg_loss:.6f} | '\n",
    "                  f'Processed: {100 * num_processed_samples / num_samples:.2f}%')\n",
    "\n",
    "    avg_loss = sum_batch_avrg_loss / num_batches\n",
    "    precision = sum_correct / num_samples\n",
    "    return avg_loss, precision"
   ]
  },
  {
   "cell_type": "code",
   "execution_count": null,
   "metadata": {},
   "outputs": [],
   "source": [
    "# 5.2)\n",
    "def valid_model(dataloader, model, loss_fn):\n",
    "    # desactivamos la maquina de entrenamiento\n",
    "    model.eval()\n",
    "\n",
    "    # definimos constantes\n",
    "    num_samples = len(dataloader.dataset)\n",
    "    num_batches = len(dataloader)\n",
    "    sum_batch_avrg_loss = 0\n",
    "    sum_correct = 0\n",
    "\n",
    "    # para testear, desactivamos el calculo de gradientes\n",
    "    with torch.no_grad():\n",
    "        # iteramos sobre los batches\n",
    "        for X, y in dataloader:\n",
    "            # copiamos las entradas y las salidas al dispositivo de trabajo\n",
    "            X, y = X.to(device), y.to(device)\n",
    "            batch_size = len(X) # tamaño del batch\n",
    "            num_processed_samples += batch_size\n",
    "            # Calculamos la prediccion del modelo y lo correspondiente funcion de perdida\n",
    "            pred = model(X)\n",
    "            loss = loss_fn(pred, y)\n",
    "            # calculamos la perdida promedio del batch y lo agregamos a una suma correspondiente\n",
    "            batch_avrg_loss = loss.item()\n",
    "            sum_batch_avrg_loss += batch_avrg_loss\n",
    "            # calculamos el numero de predicciones correctas en el batch y lo agregamos a una suma correspondiente\n",
    "            sum_correct += (pred.argmax(1) == y).type(torch.float).sum().item()\n",
    "            # calculamos el numero de ejemplos procesados\n",
    "            num_precessed_samples += batch_size\n",
    "    # calculamos la perdida promedio y la precision\n",
    "    avg_loss = sum_batch_avrg_loss / num_batches\n",
    "    precision = sum_correct / num_samples\n",
    "    print(f'Validation | Loss: {avg_loss:.6f} | Precision: {precision:.2f}')\n",
    "    return avg_loss, precision"
   ]
  },
  {
   "cell_type": "code",
   "execution_count": null,
   "metadata": {},
   "outputs": [],
   "source": [
    "# 5.3)\n",
    "# Creamos los dataLoaders\n",
    "batch_size = 100\n",
    "train_loader = DataLoader(train_dataset, batch_size=batch_size, shuffle=True)\n",
    "test_loader = DataLoader(test_dataset, batch_size=batch_size, shuffle=True)"
   ]
  },
  {
   "cell_type": "code",
   "execution_count": null,
   "metadata": {},
   "outputs": [],
   "source": [
    "# 5.4)\n",
    "# creamos una instancia de una funcion de perdida,cross entropy\n",
    "loss_fn = nn.CrossEntropyLoss()"
   ]
  },
  {
   "cell_type": "code",
   "execution_count": null,
   "metadata": {},
   "outputs": [],
   "source": [
    "# 5.5)\n",
    "n1, n2 = 128, 64\n",
    "p = 0.2\n",
    "my_nn = NeuralNetwork(n1, n2, p)"
   ]
  },
  {
   "cell_type": "code",
   "execution_count": null,
   "metadata": {},
   "outputs": [],
   "source": [
    "# 5.6)\n",
    "# creamos un optimizador, un Srocastic Gradient Descent\n",
    "learning_rate = 1e-3\n",
    "optimizer = torch.optim.Adam(my_nn.parameters(), lr=learning_rate, eps=1e-8, weight_decay=0, amsgrad=False)"
   ]
  },
  {
   "cell_type": "code",
   "execution_count": null,
   "metadata": {},
   "outputs": [],
   "source": [
    "# 5.7)\n",
    "# determinamos en que dispositivo vamos a trabajar\n",
    "device = 'cuda' if torch.cuda.is_available() else 'cpu'\n",
    "my_nn.to(device)"
   ]
  },
  {
   "cell_type": "code",
   "execution_count": null,
   "metadata": {},
   "outputs": [],
   "source": [
    "# 5.8) y 5.9)\n",
    "num_epochs = 30\n",
    "list_train_avg_loss_incorrect = []\n",
    "list_train_avg_loss = []\n",
    "list_valid_avg_loss = []\n",
    "list_train_precision_incorrect = []\n",
    "list_train_precision = []\n",
    "list_valid_precision = []\n",
    "for epoch in range(num_epochs):\n",
    "    print(f'Epoch {epoch+1}\\n-------------------------------')\n",
    "    train_avg_loss_incorrect, train_precision_incorrect = train_loop(train_loader, my_nn, loss_fn, optimizer)\n",
    "    train_avg_loss, train_precision = valid_loop(train_loader, my_nn, loss_fn)\n",
    "    valid_avg_loss, valid_precision = valid_loop(test_loader, my_nn, loss_fn)\n",
    "    list_train_avg_loss_incorrect.append(train_avg_loss_incorrect)\n",
    "    list_train_avg_loss.append(train_avg_loss)\n",
    "    list_valid_avg_loss.append(valid_avg_loss)\n",
    "    list_train_precision_incorrect.append(train_precision_incorrect)\n",
    "    list_train_precision.append(train_precision)\n",
    "    list_valid_precision.append(valid_precision)\n",
    "print('Finished Training')"
   ]
  }
 ],
 "metadata": {
  "colab": {
   "provenance": []
  },
  "kernelspec": {
   "display_name": "Python 3",
   "name": "python3"
  },
  "language_info": {
   "codemirror_mode": {
    "name": "ipython",
    "version": 3
   },
   "file_extension": ".py",
   "mimetype": "text/x-python",
   "name": "python",
   "nbconvert_exporter": "python",
   "pygments_lexer": "ipython3",
   "version": "3.9.15"
  }
 },
 "nbformat": 4,
 "nbformat_minor": 0
}
